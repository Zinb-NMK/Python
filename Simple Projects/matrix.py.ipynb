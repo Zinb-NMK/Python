{
 "cells": [
  {
   "cell_type": "code",
   "id": "initial_id",
   "metadata": {
    "collapsed": true,
    "ExecuteTime": {
     "end_time": "2024-12-21T03:48:17.497281Z",
     "start_time": "2024-12-21T03:48:17.490770Z"
    }
   },
   "source": [
    "import numpy as np\n",
    "\n",
    "my_array=np.arange(8)\n",
    "my_array=np.arange(1, 8)\n",
    "my_array=np.arange(-1, 8.5, 0.5)\n",
    "\n",
    "print(my_array)\n",
    "print(type(my_array))\n"
   ],
   "outputs": [
    {
     "name": "stdout",
     "output_type": "stream",
     "text": [
      "[-1.  -0.5  0.   0.5  1.   1.5  2.   2.5  3.   3.5  4.   4.5  5.   5.5\n",
      "  6.   6.5  7.   7.5  8. ]\n",
      "<class 'numpy.ndarray'>\n"
     ]
    }
   ],
   "execution_count": 8
  },
  {
   "metadata": {
    "ExecuteTime": {
     "end_time": "2024-12-21T03:53:27.390528Z",
     "start_time": "2024-12-21T03:53:27.384287Z"
    }
   },
   "cell_type": "code",
   "source": [
    "# Arrays from Lists\n",
    "from_list = np.array([1,2,3], dtype=np.int8)\n",
    "print(type(from_list[0]))\n"
   ],
   "id": "bfd62ac0ab15e39a",
   "outputs": [
    {
     "name": "stdout",
     "output_type": "stream",
     "text": [
      "<class 'numpy.int8'>\n"
     ]
    }
   ],
   "execution_count": 11
  },
  {
   "metadata": {
    "ExecuteTime": {
     "end_time": "2024-12-21T04:11:13.444808Z",
     "start_time": "2024-12-21T04:11:13.438169Z"
    }
   },
   "cell_type": "code",
   "source": [
    "# 2D Arrays\n",
    "from_list = np.array([[1,2,3], [4,5,6]], dtype=np.int8)\n",
    "array_2d = np.array((np.arange(0,8,2), np.arange(1,8,2)))\n",
    "\n",
    "# For Shaping Array.\n",
    "print(f\"1D Shape:{my_array.shape} \\n\")\n",
    "print(f\"2D Shape:{array_2d.shape} \\n\")\n",
    "\n",
    "# For ReShaping Array.\n",
    "array_2d = array_2d.reshape((4, 2))  # Here we switched the row to columns\n",
    "print(f\"Reshaped Array: {array_2d} \\n\")\n",
    "\n",
    "array_2d = array_2d.reshape(8)  # Reshaped to single Dimension array.\n",
    "print(f\"Reshaped Array: {array_2d} \\n\")\n",
    "\n",
    "array_2d = array_2d.reshape((2,1,4))  # Reshape Even & ODD\n",
    "print(f\"Separate Even & ODD: {array_2d}\\n\")\n",
    "\n",
    "array_2d = array_2d.reshape((2,2,2))\n",
    "print(f\"2_Dimensional Matrix: \\n{array_2d}\\n\")\n",
    "\n",
    "print(from_list)\n",
    "print(type(from_list))\n"
   ],
   "id": "1794d5e1c7d46916",
   "outputs": [
    {
     "name": "stdout",
     "output_type": "stream",
     "text": [
      "1D Shape:(19,) \n",
      "\n",
      "2D Shape:(2, 4) \n",
      "\n",
      "Reshaped Array: [[0 2]\n",
      " [4 6]\n",
      " [1 3]\n",
      " [5 7]] \n",
      "\n",
      "Reshaped Array: [0 2 4 6 1 3 5 7] \n",
      "\n",
      "Separate Even & ODD: [[[0 2 4 6]]\n",
      "\n",
      " [[1 3 5 7]]]\n",
      "\n",
      "2_Dimensional Matrix: \n",
      "[[[0 2]\n",
      "  [4 6]]\n",
      "\n",
      " [[1 3]\n",
      "  [5 7]]]\n",
      "\n",
      "[[1 2 3]\n",
      " [4 5 6]]\n",
      "<class 'numpy.ndarray'>\n"
     ]
    }
   ],
   "execution_count": 20
  },
  {
   "metadata": {
    "ExecuteTime": {
     "end_time": "2024-12-21T04:22:23.664383Z",
     "start_time": "2024-12-21T04:22:23.656135Z"
    }
   },
   "cell_type": "code",
   "source": [
    "# Empty Arrays\n",
    "empty_arr = np.zeros((2,2))\n",
    "print(f\"Zeros Array: \\n{empty_arr}\\n\")\n",
    "\"'Empty and Zeros are not same Zeros make matrix Elements to zero while empty gives random elements as below.'\"\n",
    "empty_arr_one = np.ones((2,2))\n",
    "empty_arr_one = np.empty((2,2,2))\n",
    "print(f\"Empty Array: \\n{empty_arr_one}\\n\")"
   ],
   "id": "f6e8fe2456e5bfca",
   "outputs": [
    {
     "name": "stdout",
     "output_type": "stream",
     "text": [
      "Zeros Array: \n",
      "[[0. 0.]\n",
      " [0. 0.]]\n",
      "\n",
      "Empty Array: \n",
      "[[[0.0e+000 9.9e-324]\n",
      "  [2.0e-323 3.0e-323]]\n",
      "\n",
      " [[4.9e-324 1.5e-323]\n",
      "  [2.5e-323 3.5e-323]]]\n",
      "\n"
     ]
    }
   ],
   "execution_count": 35
  },
  {
   "metadata": {
    "ExecuteTime": {
     "end_time": "2024-12-21T04:36:39.188313Z",
     "start_time": "2024-12-21T04:36:39.182747Z"
    }
   },
   "cell_type": "code",
   "source": [
    "# Eye Array\n",
    "eye_array = np.eye(3, k=1)\n",
    "print(f\"Eye Array: \\n{eye_array}\\n\")\n",
    "eye_array[eye_array == 0] = 2\n",
    "print(f\"Replaced (0-2) Eye Array: \\n{eye_array}\\n\")\n",
    "\n",
    "eye_array[eye_array < 2 ] = 9\n",
    "print(f\"Replaced (Elements < 2 to 9) Eye Array: \\n{eye_array}\\n\")\n",
    "eye_array[0] = 3\n",
    "print(f\"Replaced entire row of Eye Array: \\n{eye_array}\\n\")\n",
    "eye_array[:2] = 3\n",
    "print(f\"Replaced 2 rows of Eye Array: \\n{eye_array}\\n\")\n",
    "eye_array[:, 0] = 4\n",
    "print(f\"Replaced entire column[1st] of Eye Array: \\n{eye_array}\\n\")\n",
    "eye_array[1:, :2] = 8\n",
    "print(f\"Replaced last rows and 2 columns of Eye Array: \\n{eye_array}\\n\")\n"
   ],
   "id": "a251098e7eb43068",
   "outputs": [
    {
     "name": "stdout",
     "output_type": "stream",
     "text": [
      "Eye Array: \n",
      "[[0. 1. 0.]\n",
      " [0. 0. 1.]\n",
      " [0. 0. 0.]]\n",
      "\n",
      "Replaced (0-2) Eye Array: \n",
      "[[2. 1. 2.]\n",
      " [2. 2. 1.]\n",
      " [2. 2. 2.]]\n",
      "\n",
      "Replaced (Elements < 2 to 9) Eye Array: \n",
      "[[2. 9. 2.]\n",
      " [2. 2. 9.]\n",
      " [2. 2. 2.]]\n",
      "\n",
      "Replaced entire row of Eye Array: \n",
      "[[3. 3. 3.]\n",
      " [2. 2. 9.]\n",
      " [2. 2. 2.]]\n",
      "\n",
      "Replaced 2 rows of Eye Array: \n",
      "[[3. 3. 3.]\n",
      " [3. 3. 3.]\n",
      " [2. 2. 2.]]\n",
      "\n",
      "Replaced entire column[1st] of Eye Array: \n",
      "[[4. 3. 3.]\n",
      " [4. 3. 3.]\n",
      " [4. 2. 2.]]\n",
      "\n",
      "Replaced last rows and 2 columns of Eye Array: \n",
      "[[4. 3. 3.]\n",
      " [8. 8. 3.]\n",
      " [8. 8. 2.]]\n",
      "\n",
      "Sorted Array: \n",
      "[[3. 3. 4.]\n",
      " [3. 8. 8.]\n",
      " [2. 8. 8.]]\n",
      "\n"
     ]
    }
   ],
   "execution_count": 52
  },
  {
   "metadata": {
    "ExecuteTime": {
     "end_time": "2024-12-21T04:38:58.056825Z",
     "start_time": "2024-12-21T04:38:58.048362Z"
    }
   },
   "cell_type": "code",
   "source": [
    "# Sorting an Array.\n",
    "sorted_array = np.sort(eye_array)\n",
    "print(f\"Sorted Array By Rows: \\n{sorted_array}\\n\")\n",
    "\n",
    "sorted_array = np.sort(eye_array, axis=0, kind=\"mergesort\")\n",
    "print(f\"Sorted Array By Column: \\n{sorted_array}\\n\")\n"
   ],
   "id": "71f8d2ccd866aec7",
   "outputs": [
    {
     "name": "stdout",
     "output_type": "stream",
     "text": [
      "Sorted Array By Rows: \n",
      "[[3. 3. 4.]\n",
      " [3. 8. 8.]\n",
      " [2. 8. 8.]]\n",
      "\n",
      "Sorted Array By Column: \n",
      "[[4. 3. 2.]\n",
      " [8. 8. 3.]\n",
      " [8. 8. 3.]]\n",
      "\n"
     ]
    }
   ],
   "execution_count": 56
  },
  {
   "metadata": {
    "ExecuteTime": {
     "end_time": "2024-12-21T04:43:48.358649Z",
     "start_time": "2024-12-21T04:43:48.351682Z"
    }
   },
   "cell_type": "code",
   "source": [
    "# Copy Array\n",
    "my_view = sorted_array.view()\n",
    "my_copy = sorted_array.copy()\n",
    "\n",
    "my_view[:] = 4\n",
    "print(f\"{my_view}\\n\")\n",
    "print(f\"{sorted_array}\\n\")\n",
    "\n",
    "my_copy[:] = 4\n",
    "print(f\"{my_copy}\\n\")\n",
    "print(f\"{sorted_array}\")"
   ],
   "id": "4f28ae70a6057a0b",
   "outputs": [
    {
     "name": "stdout",
     "output_type": "stream",
     "text": [
      "[[4. 4. 4.]\n",
      " [4. 4. 4.]\n",
      " [4. 4. 4.]]\n",
      "\n",
      "[[4. 4. 4.]\n",
      " [4. 4. 4.]\n",
      " [4. 4. 4.]]\n"
     ]
    }
   ],
   "execution_count": 60
  }
 ],
 "metadata": {
  "kernelspec": {
   "display_name": "Python 3",
   "language": "python",
   "name": "python3"
  },
  "language_info": {
   "codemirror_mode": {
    "name": "ipython",
    "version": 2
   },
   "file_extension": ".py",
   "mimetype": "text/x-python",
   "name": "python",
   "nbconvert_exporter": "python",
   "pygments_lexer": "ipython2",
   "version": "2.7.6"
  }
 },
 "nbformat": 4,
 "nbformat_minor": 5
}
