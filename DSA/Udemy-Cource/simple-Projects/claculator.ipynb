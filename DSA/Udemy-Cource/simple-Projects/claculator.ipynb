{
 "cells": [
  {
   "cell_type": "markdown",
   "metadata": {},
   "source": [
    "### Simple Calculator\n"
   ]
  },
  {
   "cell_type": "code",
   "execution_count": 6,
   "metadata": {},
   "outputs": [
    {
     "name": "stdout",
     "output_type": "stream",
     "text": [
      "Sum of number 1 & number 2 is: 24.23\n",
      "\n",
      "Difference of number 1 & number 2 is: 17.77\n",
      "\n",
      "Product of number 1 & number 2 is: 67.830\n",
      "\n",
      "Quotient of number 1 & number 2 is: 6.502\n",
      "\n",
      "Floor Division of number 1 & number 2 is: 6.0\n",
      "\n",
      "Modulus of number 1 & number 2 is: 1.62\n",
      "\n",
      "Exponential of number 1 & number 2 is: 18653.843\n",
      "\n"
     ]
    }
   ],
   "source": [
    "num1 = float(input(\"Enter number 1: \"))\n",
    "num2 = float(input(\"Enter a number 2: \"))\n",
    "\n",
    "sum = num1+num2\n",
    "sub = num1-num2\n",
    "mult = num1*num2\n",
    "div = num1/num2\n",
    "flor_div = num1//num2\n",
    "mod = num1%num2\n",
    "expo = num1**num2\n",
    "\n",
    "print(f\"Sum of number 1 & number 2 is: {sum}\\n\")\n",
    "print(f\"Difference of number 1 & number 2 is: {sub}\\n\")\n",
    "print(f\"Product of number 1 & number 2 is: {mult:.3f}\\n\")\n",
    "print(f\"Quotient of number 1 & number 2 is: {div:.3f}\\n\")\n",
    "print(f\"Floor Division of number 1 & number 2 is: {flor_div}\\n\")\n",
    "print(f\"Modulus of number 1 & number 2 is: {mod}\\n\")\n",
    "print(f\"Exponential of number 1 & number 2 is: {expo:.3f}\\n\")\n",
    "\n",
    "\n"
   ]
  },
  {
   "cell_type": "markdown",
   "metadata": {},
   "source": []
  }
 ],
 "metadata": {
  "kernelspec": {
   "display_name": "venv",
   "language": "python",
   "name": "python3"
  },
  "language_info": {
   "codemirror_mode": {
    "name": "ipython",
    "version": 3
   },
   "file_extension": ".py",
   "mimetype": "text/x-python",
   "name": "python",
   "nbconvert_exporter": "python",
   "pygments_lexer": "ipython3",
   "version": "3.12.0"
  }
 },
 "nbformat": 4,
 "nbformat_minor": 2
}
