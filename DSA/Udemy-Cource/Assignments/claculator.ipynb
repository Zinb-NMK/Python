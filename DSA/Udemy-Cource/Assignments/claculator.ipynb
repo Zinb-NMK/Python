{
 "cells": [
  {
   "cell_type": "markdown",
   "metadata": {},
   "source": [
    "### Simple Calculator\n"
   ]
  },
  {
   "cell_type": "code",
   "execution_count": 11,
   "metadata": {},
   "outputs": [
    {
     "name": "stdout",
     "output_type": "stream",
     "text": [
      "Result is: \n",
      "Invalid Operation\n",
      "\n"
     ]
    }
   ],
   "source": [
    "def calculator(num1, num2, operator):\n",
    "    if operator == '+':\n",
    "        result = f\"Addition('+'):{num1 + num2}\"\n",
    "    elif operator == '-':\n",
    "        result = f\"Difference('-'): {num1 - num2}\"\n",
    "    elif operator == '*':\n",
    "        result = f\"Product('*'): {num1*num2}\"\n",
    "    elif operator == '/':\n",
    "        if num2 != 0:\n",
    "            result = f\"Division('/'): {num1/num2}\"\n",
    "        else:\n",
    "            print(\"Error! Division by Zero.\")\n",
    "    elif operator == '//':\n",
    "        result = f\"Floor Division('//'): {num1//num2}\"\n",
    "    elif operator == '%':\n",
    "        result = f\"Modulus('%'): {num1%num2}\"\n",
    "    elif operator == '**':\n",
    "        result = f\"Exponentioal('**'): {num1**num2}\"\n",
    "    else:\n",
    "        result = \"Invalid Operation\"\n",
    "    return result\n",
    "\n",
    "num1 = float(input(\"Enter number 1: \"))\n",
    "num2 = float(input(\"Enter a number 2: \"))\n",
    "operator = input(\"Enter any of the operators(+,-,*,/,//,**,%)\")\n",
    "result = calculator(num1, num2, operator)\n",
    "print(f\"Result is: \\n{result}\\n\")\n"
   ]
  },
  {
   "cell_type": "markdown",
   "metadata": {},
   "source": []
  }
 ],
 "metadata": {
  "kernelspec": {
   "display_name": "venv",
   "language": "python",
   "name": "python3"
  },
  "language_info": {
   "codemirror_mode": {
    "name": "ipython",
    "version": 3
   },
   "file_extension": ".py",
   "mimetype": "text/x-python",
   "name": "python",
   "nbconvert_exporter": "python",
   "pygments_lexer": "ipython3",
   "version": "3.12.0"
  }
 },
 "nbformat": 4,
 "nbformat_minor": 2
}
