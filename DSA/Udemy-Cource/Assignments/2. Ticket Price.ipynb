{
 "cells": [
  {
   "cell_type": "markdown",
   "metadata": {},
   "source": [
    "### Ticket Pricing Based On Age"
   ]
  },
  {
   "cell_type": "code",
   "execution_count": 1,
   "metadata": {},
   "outputs": [
    {
     "name": "stdout",
     "output_type": "stream",
     "text": [
      "Price of Ticket is: 20\n",
      "\n"
     ]
    }
   ],
   "source": [
    "def Ticket(age):\n",
    "    if age <= 10:\n",
    "        price = \"$5\"\n",
    "    elif age>10 and age<=18:\n",
    "        price = \"$10\"\n",
    "    elif age>18 and age<=30:\n",
    "        price = \"$15\"\n",
    "    elif age>30 and age<100:\n",
    "        price = \"20\"\n",
    "    else:\n",
    "        print(\"Error! Invalid Age(Only age's Between 0 - 100).\")\n",
    "    return price\n",
    "age = int(input(\"Enter your age: \"))\n",
    "price = Ticket(age)\n",
    "print(f\"Price of Ticket is: {price}\\n\")"
   ]
  },
  {
   "cell_type": "code",
   "execution_count": null,
   "metadata": {},
   "outputs": [],
   "source": []
  }
 ],
 "metadata": {
  "kernelspec": {
   "display_name": "venv",
   "language": "python",
   "name": "python3"
  },
  "language_info": {
   "codemirror_mode": {
    "name": "ipython",
    "version": 3
   },
   "file_extension": ".py",
   "mimetype": "text/x-python",
   "name": "python",
   "nbconvert_exporter": "python",
   "pygments_lexer": "ipython3",
   "version": "3.12.0"
  }
 },
 "nbformat": 4,
 "nbformat_minor": 2
}
